{
 "cells": [
  {
   "cell_type": "code",
   "execution_count": 12,
   "id": "2d2ed7b8",
   "metadata": {},
   "outputs": [
    {
     "name": "stdout",
     "output_type": "stream",
     "text": [
      " Enter the values of list containing sets representing a graph : \n",
      "1 0\n",
      "2 0\n",
      "3 0\n",
      "3 2\n",
      "Enter the value of number x : \n",
      "3\n",
      "DFS traversal nodes of the input graph starting from 3 : \n",
      "3 0 2 "
     ]
    }
   ],
   "source": [
    "#You are given a graph and a number x as input. Your task is to print the DFS traversal nodes of the input graph starting from node x. \n",
    "\n",
    "from collections import defaultdict\n",
    " \n",
    "class Graph:\n",
    "    def __init__(self):\n",
    "        self.graph = defaultdict(list)\n",
    " \n",
    "\n",
    "    def addEdge(self, u, v):\n",
    "        self.graph[u].append(v)\n",
    " \n",
    "    def DFS_recur(self, v, visited):\n",
    "        visited.add(v)\n",
    "        print(v, end=' ')\n",
    "        for next in self.graph[v]:\n",
    "            if next not in visited:\n",
    "                self.DFS_recur(next, visited)\n",
    " \n",
    "\n",
    "    def DFS(self, v):\n",
    "        visited = set()\n",
    "        self.DFS_recur(v, visited)\n",
    "\n",
    "if __name__ == \"__main__\":\n",
    "    g = Graph()\n",
    "    print(\" Enter the values of list containing sets representing a graph : \")\n",
    "    for i in range(4):\n",
    "        m,n = [int(x) for x in input().split()]\n",
    "        g.addEdge(m,n)\n",
    "    \n",
    "     \n",
    "    print(\"Enter the value of number x : \")\n",
    "    node_x = int(input())\n",
    "    print(f\"DFS traversal nodes of the input graph starting from {node_x} : \")\n",
    "    g.DFS(node_x)"
   ]
  },
  {
   "cell_type": "code",
   "execution_count": 13,
   "id": "05999767",
   "metadata": {},
   "outputs": [
    {
     "name": "stdout",
     "output_type": "stream",
     "text": [
      "Enter the string : \n",
      "abcdef\n",
      "No. of palindromic subsequence which could be formed from the string str : \n",
      "6\n"
     ]
    }
   ],
   "source": [
    "#Given a string str, your task is to write a program which takes a string str as its only input and returns an integer denoting the no of palindromic subsequence (need not necessarily be distinct) which could be formed from the string str.\n",
    "\n",
    "class Solution:\n",
    "    def countPalindromicSubsequences(self, s: str):\n",
    "        n = len(str)\n",
    "        if n==0 or n==2:\n",
    "            return n\n",
    "        count = 0\n",
    "        i = 0\n",
    "        for i in range(n):\n",
    "            j=i\n",
    "            k=i\n",
    "            while(j>=0 and k<n and str[j]==str[k]):\n",
    "                j=j-1\n",
    "                k=k+1\n",
    "                count = count+1\n",
    "                \n",
    "            j=i\n",
    "            k=i+1\n",
    "            while(j>=0 and k<n and str[j]==str[k]):\n",
    "                j=j-1\n",
    "                k=k+1\n",
    "                count = count+1\n",
    "        print(count)\n",
    "    \n",
    "if __name__ == \"__main__\":\n",
    "    s = Solution()\n",
    "    print(\"Enter the string : \")\n",
    "    str = input()\n",
    "    print(\"No. of palindromic subsequence which could be formed from the string str : \")\n",
    "    s.countPalindromicSubsequences(str)\n",
    "            \n",
    "    "
   ]
  },
  {
   "cell_type": "code",
   "execution_count": null,
   "id": "36180b48",
   "metadata": {},
   "outputs": [],
   "source": []
  }
 ],
 "metadata": {
  "kernelspec": {
   "display_name": "Python 3 (ipykernel)",
   "language": "python",
   "name": "python3"
  },
  "language_info": {
   "codemirror_mode": {
    "name": "ipython",
    "version": 3
   },
   "file_extension": ".py",
   "mimetype": "text/x-python",
   "name": "python",
   "nbconvert_exporter": "python",
   "pygments_lexer": "ipython3",
   "version": "3.9.12"
  }
 },
 "nbformat": 4,
 "nbformat_minor": 5
}
